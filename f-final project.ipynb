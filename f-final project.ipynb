{
 "cells": [
  {
   "cell_type": "markdown",
   "id": "f1bfc943",
   "metadata": {},
   "source": [
    "\n",
    "#  Smart Banking Chatbot\n"
   ]
  },
  {
   "cell_type": "code",
   "execution_count": 3,
   "id": "00024d37",
   "metadata": {},
   "outputs": [
    {
     "name": "stderr",
     "output_type": "stream",
     "text": [
      "c:\\Users\\abdallah\\anaconda3\\envs\\GPU\\Lib\\site-packages\\tqdm\\auto.py:21: TqdmWarning: IProgress not found. Please update jupyter and ipywidgets. See https://ipywidgets.readthedocs.io/en/stable/user_install.html\n",
      "  from .autonotebook import tqdm as notebook_tqdm\n",
      "W0531 22:46:51.659000 64812 site-packages\\torch\\distributed\\elastic\\multiprocessing\\redirects.py:29] NOTE: Redirects are currently not supported in Windows or MacOs.\n"
     ]
    },
    {
     "name": "stdout",
     "output_type": "stream",
     "text": [
      "Using device: cuda\n"
     ]
    }
   ],
   "source": [
    "# STEP 1: Import Libraries\n",
    "import os\n",
    "import torch\n",
    "import evaluate\n",
    "import spacy\n",
    "from datasets import load_dataset\n",
    "from transformers import (\n",
    "    BertTokenizer,\n",
    "    BertForSequenceClassification,\n",
    "    TrainingArguments,\n",
    "    Trainer,\n",
    "    DataCollatorWithPadding\n",
    ")\n",
    "from sklearn.metrics import accuracy_score, classification_report\n",
    "from spacy.matcher import Matcher\n",
    "from spacy.lang.en.stop_words import STOP_WORDS\n",
    "import re\n",
    "import string\n",
    "from transformers.trainer_callback import TrainerCallback\n",
    "\n",
    "# STEP 2: Set Environment and Check Device\n",
    "os.environ[\"TRANSFORMERS_NO_TF\"] = \"1\"\n",
    "device = torch.device(\"cuda\" if torch.cuda.is_available() else \"cpu\")\n",
    "print(\"Using device:\", device)\n"
   ]
  },
  {
   "cell_type": "markdown",
   "id": "9ae6e53a",
   "metadata": {},
   "source": [
    "#  Dataset Loading & Exploration"
   ]
  },
  {
   "cell_type": "code",
   "execution_count": 4,
   "id": "e36fbb15",
   "metadata": {},
   "outputs": [],
   "source": [
    "# STEP 3: Load the Banking77 Dataset\n",
    "raw_dataset = load_dataset(\"banking77\")\n",
    "label_names = raw_dataset[\"train\"].features[\"label\"].names\n",
    "num_labels = len(label_names)"
   ]
  },
  {
   "cell_type": "code",
   "execution_count": 5,
   "id": "2b59986f",
   "metadata": {},
   "outputs": [
    {
     "name": "stdout",
     "output_type": "stream",
     "text": [
      "DatasetDict({\n",
      "    train: Dataset({\n",
      "        features: ['text', 'label'],\n",
      "        num_rows: 10003\n",
      "    })\n",
      "    test: Dataset({\n",
      "        features: ['text', 'label'],\n",
      "        num_rows: 3080\n",
      "    })\n",
      "})\n"
     ]
    }
   ],
   "source": [
    "\n",
    "# Check available splits\n",
    "print(raw_dataset)  # shows 'train' and 'test' splits\n"
   ]
  },
  {
   "cell_type": "code",
   "execution_count": 8,
   "id": "5dff854c",
   "metadata": {},
   "outputs": [
    {
     "name": "stdout",
     "output_type": "stream",
     "text": [
      "Number of labels: 77\n",
      "Sample label names: ['activate_my_card', 'age_limit', 'apple_pay_or_google_pay', 'atm_support', 'automatic_top_up', 'balance_not_updated_after_bank_transfer', 'balance_not_updated_after_cheque_or_cash_deposit', 'beneficiary_not_allowed', 'cancel_transfer', 'card_about_to_expire', 'card_acceptance', 'card_arrival']\n"
     ]
    }
   ],
   "source": [
    "\n",
    "\n",
    "print(f\"Number of labels: {num_labels}\")\n",
    "print(\"Sample label names:\", label_names[:12])\n"
   ]
  },
  {
   "cell_type": "code",
   "execution_count": 9,
   "id": "474c0f2f",
   "metadata": {},
   "outputs": [
    {
     "name": "stdout",
     "output_type": "stream",
     "text": [
      "Text: I am still waiting on my card?\n",
      "Label Index: 11\n",
      "Label Name: card_arrival\n"
     ]
    }
   ],
   "source": [
    "example = raw_dataset[\"train\"][0]\n",
    "print(\"Text:\", example[\"text\"])\n",
    "print(\"Label Index:\", example[\"label\"])\n",
    "print(\"Label Name:\", label_names[example[\"label\"]])\n"
   ]
  },
  {
   "cell_type": "code",
   "execution_count": 11,
   "id": "8937648c",
   "metadata": {},
   "outputs": [
    {
     "data": {
      "image/png": "[encoded data removed]",
      "text/plain": [
       "<Figure size 1200x400 with 1 Axes>"
      ]
     },
     "metadata": {},
     "output_type": "display_data"
    }
   ],
   "source": [
    "from collections import Counter\n",
    "import matplotlib.pyplot as plt\n",
    "\n",
    "# Count label frequencies\n",
    "label_counts = Counter(example[\"label\"] for example in raw_dataset[\"train\"])\n",
    "\n",
    "# Convert to list of counts in label order\n",
    "label_freqs = [label_counts[i] for i in range(num_labels)]\n",
    "\n",
    "# Plot\n",
    "plt.figure(figsize=(12, 4))\n",
    "plt.bar(range(num_labels), label_freqs)\n",
    "plt.title(\"Label Distribution in Banking77\")\n",
    "plt.xlabel(\"Label Index\")\n",
    "plt.ylabel(\"Frequency\")\n",
    "plt.show()\n"
   ]
  },
  {
   "cell_type": "markdown",
   "id": "8cbf1b48",
   "metadata": {},
   "source": [
    "# Preprocessing"
   ]
  },
  {
   "cell_type": "code",
   "execution_count": 3,
   "id": "e9683530",
   "metadata": {},
   "outputs": [
    {
     "name": "stderr",
     "output_type": "stream",
     "text": [
      "c:\\Users\\abdallah\\anaconda3\\envs\\GPU\\Lib\\site-packages\\huggingface_hub\\file_download.py:943: FutureWarning: `resume_download` is deprecated and will be removed in version 1.0.0. Downloads always resume when possible. If you want to force a new download, use `force_download=True`.\n",
      "  warnings.warn(\n"
     ]
    }
   ],
   "source": [
    "# STEP 4: Preprocess the Text (Normalization + Tokenization)\n",
    "def clean_text(text):\n",
    "    text = text.lower()\n",
    "    text = re.sub(rf\"[{string.punctuation}]\", \"\", text)\n",
    "    text = re.sub(r\"\\s+\", \" \", text).strip()\n",
    "    tokens = text.split()\n",
    "    tokens = [word for word in tokens if word not in STOP_WORDS]\n",
    "    return \" \".join(tokens)\n",
    "\n",
    "def preprocess(batch):\n",
    "    batch[\"text\"] = [clean_text(t) for t in batch[\"text\"]]\n",
    "    return tokenizer(batch[\"text\"], truncation=True, padding=True)\n",
    "\n",
    "tokenizer = BertTokenizer.from_pretrained(\"bert-base-uncased\")\n",
    "dataset = raw_dataset.map(preprocess, batched=True)\n",
    "data_collator = DataCollatorWithPadding(tokenizer=tokenizer)"
   ]
  },
  {
   "cell_type": "code",
   "execution_count": 14,
   "id": "a8a35cc4",
   "metadata": {},
   "outputs": [
    {
     "name": "stderr",
     "output_type": "stream",
     "text": [
      "c:\\Users\\abdallah\\anaconda3\\envs\\GPU\\Lib\\site-packages\\huggingface_hub\\file_download.py:943: FutureWarning: `resume_download` is deprecated and will be removed in version 1.0.0. Downloads always resume when possible. If you want to force a new download, use `force_download=True`.\n",
      "  warnings.warn(\n",
      "Some weights of BertForSequenceClassification were not initialized from the model checkpoint at bert-base-uncased and are newly initialized: ['classifier.bias', 'classifier.weight']\n",
      "You should probably TRAIN this model on a down-stream task to be able to use it for predictions and inference.\n"
     ]
    }
   ],
   "source": [
    "# STEP 5: Load BERT Classification Model\n",
    "model = BertForSequenceClassification.from_pretrained(\n",
    "    \"bert-base-uncased\", num_labels=num_labels).to(device)\n",
    "\n",
    "# STEP 6: Define Accuracy Metric\n",
    "accuracy = evaluate.load(\"accuracy\")\n",
    "\n",
    "def compute_metrics(eval_pred):\n",
    "    logits, labels = eval_pred\n",
    "    predictions = logits.argmax(axis=-1)\n",
    "    return accuracy.compute(predictions=predictions, references=labels)"
   ]
  },
  {
   "cell_type": "markdown",
   "id": "06eb7654",
   "metadata": {},
   "source": [
    "# Fine-Tuning"
   ]
  },
  {
   "cell_type": "code",
   "execution_count": 5,
   "id": "e6cb0478",
   "metadata": {},
   "outputs": [
    {
     "name": "stdout",
     "output_type": "stream",
     "text": [
      "\n",
      "Training model...\n"
     ]
    },
    {
     "name": "stderr",
     "output_type": "stream",
     "text": [
      "  5%|▍         | 625/12520 [01:04<20:11,  9.82it/s]"
     ]
    },
    {
     "name": "stdout",
     "output_type": "stream",
     "text": [
      "\n",
      "✅ Finished Epoch 1/20\n"
     ]
    },
    {
     "name": "stderr",
     "output_type": "stream",
     "text": [
      "                                                   \n",
      "  5%|▌         | 627/12520 [01:07<1:51:59,  1.77it/s]"
     ]
    },
    {
     "name": "stdout",
     "output_type": "stream",
     "text": [
      "{'eval_loss': 2.0168752670288086, 'eval_accuracy': 0.624025974025974, 'eval_runtime': 3.1556, 'eval_samples_per_second': 976.044, 'eval_steps_per_second': 61.161, 'epoch': 1.0}\n"
     ]
    },
    {
     "name": "stderr",
     "output_type": "stream",
     "text": [
      "  8%|▊         | 1002/12520 [01:48<20:52,  9.20it/s] "
     ]
    },
    {
     "name": "stdout",
     "output_type": "stream",
     "text": [
      "{'loss': 2.6187, 'learning_rate': 1.840255591054313e-05, 'epoch': 1.6}\n"
     ]
    },
    {
     "name": "stderr",
     "output_type": "stream",
     "text": [
      " 10%|▉         | 1251/12520 [02:14<19:26,  9.66it/s]"
     ]
    },
    {
     "name": "stdout",
     "output_type": "stream",
     "text": [
      "\n",
      "✅ Finished Epoch 2/20\n"
     ]
    },
    {
     "name": "stderr",
     "output_type": "stream",
     "text": [
      "                                                    \n",
      " 10%|█         | 1254/12520 [02:18<1:54:00,  1.65it/s]"
     ]
    },
    {
     "name": "stdout",
     "output_type": "stream",
     "text": [
      "{'eval_loss': 0.9998999834060669, 'eval_accuracy': 0.8090909090909091, 'eval_runtime': 3.319, 'eval_samples_per_second': 927.993, 'eval_steps_per_second': 58.15, 'epoch': 2.0}\n"
     ]
    },
    {
     "name": "stderr",
     "output_type": "stream",
     "text": [
      " 15%|█▍        | 1877/12520 [03:24<20:44,  8.55it/s]  "
     ]
    },
    {
     "name": "stdout",
     "output_type": "stream",
     "text": [
      "\n",
      "✅ Finished Epoch 3/20\n"
     ]
    },
    {
     "name": "stderr",
     "output_type": "stream",
     "text": [
      "                                                    \n",
      " 15%|█▌        | 1880/12520 [03:28<2:24:19,  1.23it/s]"
     ]
    },
    {
     "name": "stdout",
     "output_type": "stream",
     "text": [
      "{'eval_loss': 0.6633784174919128, 'eval_accuracy': 0.8496753246753247, 'eval_runtime': 4.1118, 'eval_samples_per_second': 749.066, 'eval_steps_per_second': 46.938, 'epoch': 3.0}\n"
     ]
    },
    {
     "name": "stderr",
     "output_type": "stream",
     "text": [
      " 16%|█▌        | 2002/12520 [03:41<19:16,  9.10it/s]  "
     ]
    },
    {
     "name": "stdout",
     "output_type": "stream",
     "text": [
      "{'loss': 0.8254, 'learning_rate': 1.6805111821086264e-05, 'epoch': 3.19}\n"
     ]
    },
    {
     "name": "stderr",
     "output_type": "stream",
     "text": [
      " 20%|█▉        | 2503/12520 [04:35<17:44,  9.41it/s]"
     ]
    },
    {
     "name": "stdout",
     "output_type": "stream",
     "text": [
      "\n",
      "✅ Finished Epoch 4/20\n"
     ]
    },
    {
     "name": "stderr",
     "output_type": "stream",
     "text": [
      "                                                    \n",
      " 20%|██        | 2506/12520 [04:39<2:00:00,  1.39it/s]"
     ]
    },
    {
     "name": "stdout",
     "output_type": "stream",
     "text": [
      "{'eval_loss': 0.5542538166046143, 'eval_accuracy': 0.8675324675324675, 'eval_runtime': 3.561, 'eval_samples_per_second': 864.927, 'eval_steps_per_second': 54.198, 'epoch': 4.0}\n"
     ]
    },
    {
     "name": "stderr",
     "output_type": "stream",
     "text": [
      " 24%|██▍       | 3002/12520 [05:30<16:29,  9.62it/s]  "
     ]
    },
    {
     "name": "stdout",
     "output_type": "stream",
     "text": [
      "{'loss': 0.3714, 'learning_rate': 1.5207667731629394e-05, 'epoch': 4.79}\n"
     ]
    },
    {
     "name": "stderr",
     "output_type": "stream",
     "text": [
      " 25%|██▍       | 3129/12520 [05:44<16:23,  9.55it/s]"
     ]
    },
    {
     "name": "stdout",
     "output_type": "stream",
     "text": [
      "\n",
      "✅ Finished Epoch 5/20\n"
     ]
    },
    {
     "name": "stderr",
     "output_type": "stream",
     "text": [
      "                                                    \n",
      " 25%|██▌       | 3132/12520 [05:47<1:33:29,  1.67it/s]"
     ]
    },
    {
     "name": "stdout",
     "output_type": "stream",
     "text": [
      "{'eval_loss': 0.5200914144515991, 'eval_accuracy': 0.8733766233766234, 'eval_runtime': 3.3032, 'eval_samples_per_second': 932.422, 'eval_steps_per_second': 58.428, 'epoch': 5.0}\n"
     ]
    },
    {
     "name": "stderr",
     "output_type": "stream",
     "text": [
      " 30%|██▉       | 3755/12520 [06:53<15:12,  9.60it/s]  "
     ]
    },
    {
     "name": "stdout",
     "output_type": "stream",
     "text": [
      "\n",
      "✅ Finished Epoch 6/20\n"
     ]
    },
    {
     "name": "stderr",
     "output_type": "stream",
     "text": [
      "                                                    \n",
      " 30%|███       | 3758/12520 [06:56<1:32:43,  1.57it/s]"
     ]
    },
    {
     "name": "stdout",
     "output_type": "stream",
     "text": [
      "{'eval_loss': 0.5142098665237427, 'eval_accuracy': 0.8737012987012988, 'eval_runtime': 3.4205, 'eval_samples_per_second': 900.443, 'eval_steps_per_second': 56.424, 'epoch': 6.0}\n"
     ]
    },
    {
     "name": "stderr",
     "output_type": "stream",
     "text": [
      " 32%|███▏      | 4002/12520 [07:22<14:11, 10.00it/s]  "
     ]
    },
    {
     "name": "stdout",
     "output_type": "stream",
     "text": [
      "{'loss': 0.2129, 'learning_rate': 1.3610223642172523e-05, 'epoch': 6.39}\n"
     ]
    },
    {
     "name": "stderr",
     "output_type": "stream",
     "text": [
      " 35%|███▍      | 4381/12520 [08:02<14:09,  9.58it/s]"
     ]
    },
    {
     "name": "stdout",
     "output_type": "stream",
     "text": [
      "\n",
      "✅ Finished Epoch 7/20\n"
     ]
    },
    {
     "name": "stderr",
     "output_type": "stream",
     "text": [
      "                                                    \n",
      " 35%|███▌      | 4383/12520 [08:06<2:02:14,  1.11it/s]"
     ]
    },
    {
     "name": "stdout",
     "output_type": "stream",
     "text": [
      "{'eval_loss': 0.5199279189109802, 'eval_accuracy': 0.8788961038961038, 'eval_runtime': 3.5027, 'eval_samples_per_second': 879.326, 'eval_steps_per_second': 55.101, 'epoch': 7.0}\n"
     ]
    },
    {
     "name": "stderr",
     "output_type": "stream",
     "text": [
      " 40%|███▉      | 5002/12520 [09:11<13:00,  9.63it/s]  "
     ]
    },
    {
     "name": "stdout",
     "output_type": "stream",
     "text": [
      "{'loss': 0.1398, 'learning_rate': 1.2012779552715656e-05, 'epoch': 7.99}\n"
     ]
    },
    {
     "name": "stderr",
     "output_type": "stream",
     "text": [
      " 40%|████      | 5008/12520 [09:12<12:02, 10.40it/s]"
     ]
    },
    {
     "name": "stdout",
     "output_type": "stream",
     "text": [
      "\n",
      "✅ Finished Epoch 8/20\n"
     ]
    },
    {
     "name": "stderr",
     "output_type": "stream",
     "text": [
      "                                                    \n",
      " 40%|████      | 5010/12520 [09:15<1:34:57,  1.32it/s]"
     ]
    },
    {
     "name": "stdout",
     "output_type": "stream",
     "text": [
      "{'eval_loss': 0.5474818348884583, 'eval_accuracy': 0.8775974025974026, 'eval_runtime': 3.3598, 'eval_samples_per_second': 916.712, 'eval_steps_per_second': 57.443, 'epoch': 8.0}\n"
     ]
    },
    {
     "name": "stderr",
     "output_type": "stream",
     "text": [
      " 45%|████▍     | 5633/12520 [10:21<11:56,  9.61it/s]  "
     ]
    },
    {
     "name": "stdout",
     "output_type": "stream",
     "text": [
      "\n",
      "✅ Finished Epoch 9/20\n"
     ]
    },
    {
     "name": "stderr",
     "output_type": "stream",
     "text": [
      "                                                    \n",
      " 45%|████▌     | 5636/12520 [10:24<1:17:56,  1.47it/s]"
     ]
    },
    {
     "name": "stdout",
     "output_type": "stream",
     "text": [
      "{'eval_loss': 0.5584587454795837, 'eval_accuracy': 0.8821428571428571, 'eval_runtime': 3.4162, 'eval_samples_per_second': 901.594, 'eval_steps_per_second': 56.496, 'epoch': 9.0}\n"
     ]
    },
    {
     "name": "stderr",
     "output_type": "stream",
     "text": [
      " 48%|████▊     | 6001/12520 [11:04<11:45,  9.24it/s]  "
     ]
    },
    {
     "name": "stdout",
     "output_type": "stream",
     "text": [
      "{'loss': 0.1023, 'learning_rate': 1.0415335463258786e-05, 'epoch': 9.58}\n"
     ]
    },
    {
     "name": "stderr",
     "output_type": "stream",
     "text": [
      " 50%|████▉     | 6259/12520 [11:31<10:37,  9.82it/s]"
     ]
    },
    {
     "name": "stdout",
     "output_type": "stream",
     "text": [
      "\n",
      "✅ Finished Epoch 10/20\n"
     ]
    },
    {
     "name": "stderr",
     "output_type": "stream",
     "text": [
      "                                                    \n",
      " 50%|█████     | 6262/12520 [11:35<1:05:04,  1.60it/s]"
     ]
    },
    {
     "name": "stdout",
     "output_type": "stream",
     "text": [
      "{'eval_loss': 0.6108194589614868, 'eval_accuracy': 0.8701298701298701, 'eval_runtime': 3.6883, 'eval_samples_per_second': 835.063, 'eval_steps_per_second': 52.327, 'epoch': 10.0}\n"
     ]
    },
    {
     "name": "stderr",
     "output_type": "stream",
     "text": [
      " 55%|█████▍    | 6885/12520 [12:41<09:55,  9.46it/s]  "
     ]
    },
    {
     "name": "stdout",
     "output_type": "stream",
     "text": [
      "\n",
      "✅ Finished Epoch 11/20\n"
     ]
    },
    {
     "name": "stderr",
     "output_type": "stream",
     "text": [
      "                                                    \n",
      " 55%|█████▌    | 6888/12520 [12:44<1:03:33,  1.48it/s]"
     ]
    },
    {
     "name": "stdout",
     "output_type": "stream",
     "text": [
      "{'eval_loss': 0.5990833640098572, 'eval_accuracy': 0.8785714285714286, 'eval_runtime': 3.4137, 'eval_samples_per_second': 902.248, 'eval_steps_per_second': 56.537, 'epoch': 11.0}\n"
     ]
    },
    {
     "name": "stderr",
     "output_type": "stream",
     "text": [
      " 56%|█████▌    | 7002/12520 [12:56<09:45,  9.42it/s]  "
     ]
    },
    {
     "name": "stdout",
     "output_type": "stream",
     "text": [
      "{'loss': 0.0885, 'learning_rate': 8.817891373801917e-06, 'epoch': 11.18}\n"
     ]
    },
    {
     "name": "stderr",
     "output_type": "stream",
     "text": [
      " 60%|█████▉    | 7511/12520 [13:50<08:33,  9.75it/s]"
     ]
    },
    {
     "name": "stdout",
     "output_type": "stream",
     "text": [
      "\n",
      "✅ Finished Epoch 12/20\n"
     ]
    },
    {
     "name": "stderr",
     "output_type": "stream",
     "text": [
      "                                                    \n",
      " 60%|██████    | 7514/12520 [13:54<53:54,  1.55it/s]  "
     ]
    },
    {
     "name": "stdout",
     "output_type": "stream",
     "text": [
      "{'eval_loss': 0.6087840795516968, 'eval_accuracy': 0.8772727272727273, 'eval_runtime': 3.3587, 'eval_samples_per_second': 917.012, 'eval_steps_per_second': 57.462, 'epoch': 12.0}\n"
     ]
    },
    {
     "name": "stderr",
     "output_type": "stream",
     "text": [
      " 64%|██████▍   | 8002/12520 [14:45<07:54,  9.52it/s]"
     ]
    },
    {
     "name": "stdout",
     "output_type": "stream",
     "text": [
      "{'loss': 0.0808, 'learning_rate': 7.220447284345049e-06, 'epoch': 12.78}\n"
     ]
    },
    {
     "name": "stderr",
     "output_type": "stream",
     "text": [
      " 65%|██████▌   | 8138/12520 [15:00<06:58, 10.46it/s]"
     ]
    },
    {
     "name": "stdout",
     "output_type": "stream",
     "text": [
      "\n",
      "✅ Finished Epoch 13/20\n"
     ]
    },
    {
     "name": "stderr",
     "output_type": "stream",
     "text": [
      "                                                    \n",
      " 65%|██████▌   | 8140/12520 [15:03<55:24,  1.32it/s]"
     ]
    },
    {
     "name": "stdout",
     "output_type": "stream",
     "text": [
      "{'eval_loss': 0.6163139343261719, 'eval_accuracy': 0.8798701298701299, 'eval_runtime': 3.4148, 'eval_samples_per_second': 901.948, 'eval_steps_per_second': 56.518, 'epoch': 13.0}\n"
     ]
    },
    {
     "name": "stderr",
     "output_type": "stream",
     "text": [
      " 70%|██████▉   | 8763/12520 [16:09<06:29,  9.65it/s]"
     ]
    },
    {
     "name": "stdout",
     "output_type": "stream",
     "text": [
      "\n",
      "✅ Finished Epoch 14/20\n"
     ]
    },
    {
     "name": "stderr",
     "output_type": "stream",
     "text": [
      "                                                    \n",
      " 70%|███████   | 8766/12520 [16:13<42:57,  1.46it/s]"
     ]
    },
    {
     "name": "stdout",
     "output_type": "stream",
     "text": [
      "{'eval_loss': 0.6267595887184143, 'eval_accuracy': 0.8811688311688312, 'eval_runtime': 3.6204, 'eval_samples_per_second': 850.726, 'eval_steps_per_second': 53.308, 'epoch': 14.0}\n"
     ]
    },
    {
     "name": "stderr",
     "output_type": "stream",
     "text": [
      " 72%|███████▏  | 9001/12520 [16:38<06:42,  8.74it/s]"
     ]
    },
    {
     "name": "stdout",
     "output_type": "stream",
     "text": [
      "{'loss': 0.0704, 'learning_rate': 5.623003194888179e-06, 'epoch': 14.38}\n"
     ]
    },
    {
     "name": "stderr",
     "output_type": "stream",
     "text": [
      " 75%|███████▌  | 9390/12520 [17:20<04:55, 10.58it/s]"
     ]
    },
    {
     "name": "stdout",
     "output_type": "stream",
     "text": [
      "\n",
      "✅ Finished Epoch 15/20\n"
     ]
    },
    {
     "name": "stderr",
     "output_type": "stream",
     "text": [
      "                                                    \n",
      " 75%|███████▌  | 9392/12520 [17:23<36:57,  1.41it/s]"
     ]
    },
    {
     "name": "stdout",
     "output_type": "stream",
     "text": [
      "{'eval_loss': 0.6327310800552368, 'eval_accuracy': 0.8782467532467533, 'eval_runtime': 3.4148, 'eval_samples_per_second': 901.959, 'eval_steps_per_second': 56.519, 'epoch': 15.0}\n"
     ]
    },
    {
     "name": "stderr",
     "output_type": "stream",
     "text": [
      " 80%|███████▉  | 10002/12520 [18:28<04:29,  9.34it/s]"
     ]
    },
    {
     "name": "stdout",
     "output_type": "stream",
     "text": [
      "{'loss': 0.0667, 'learning_rate': 4.02555910543131e-06, 'epoch': 15.97}\n"
     ]
    },
    {
     "name": "stderr",
     "output_type": "stream",
     "text": [
      " 80%|███████▉  | 10015/12520 [18:29<04:22,  9.53it/s]"
     ]
    },
    {
     "name": "stdout",
     "output_type": "stream",
     "text": [
      "\n",
      "✅ Finished Epoch 16/20\n"
     ]
    },
    {
     "name": "stderr",
     "output_type": "stream",
     "text": [
      "                                                     \n",
      " 80%|████████  | 10018/12520 [18:33<28:59,  1.44it/s]"
     ]
    },
    {
     "name": "stdout",
     "output_type": "stream",
     "text": [
      "{'eval_loss': 0.6288838982582092, 'eval_accuracy': 0.8818181818181818, 'eval_runtime': 3.4479, 'eval_samples_per_second': 893.293, 'eval_steps_per_second': 55.976, 'epoch': 16.0}\n"
     ]
    },
    {
     "name": "stderr",
     "output_type": "stream",
     "text": [
      " 85%|████████▍ | 10641/12520 [19:39<03:14,  9.66it/s]"
     ]
    },
    {
     "name": "stdout",
     "output_type": "stream",
     "text": [
      "\n",
      "✅ Finished Epoch 17/20\n"
     ]
    },
    {
     "name": "stderr",
     "output_type": "stream",
     "text": [
      "                                                     \n",
      " 85%|████████▌ | 10644/12520 [19:43<21:10,  1.48it/s]"
     ]
    },
    {
     "name": "stdout",
     "output_type": "stream",
     "text": [
      "{'eval_loss': 0.6330634355545044, 'eval_accuracy': 0.8808441558441559, 'eval_runtime': 3.6102, 'eval_samples_per_second': 853.133, 'eval_steps_per_second': 53.459, 'epoch': 17.0}\n"
     ]
    },
    {
     "name": "stderr",
     "output_type": "stream",
     "text": [
      " 88%|████████▊ | 11001/12520 [20:20<02:39,  9.52it/s]"
     ]
    },
    {
     "name": "stdout",
     "output_type": "stream",
     "text": [
      "{'loss': 0.058, 'learning_rate': 2.428115015974441e-06, 'epoch': 17.57}\n"
     ]
    },
    {
     "name": "stderr",
     "output_type": "stream",
     "text": [
      " 90%|████████▉ | 11267/12520 [20:49<02:11,  9.56it/s]"
     ]
    },
    {
     "name": "stdout",
     "output_type": "stream",
     "text": [
      "\n",
      "✅ Finished Epoch 18/20\n"
     ]
    },
    {
     "name": "stderr",
     "output_type": "stream",
     "text": [
      "                                                     \n",
      " 90%|█████████ | 11270/12520 [20:52<13:47,  1.51it/s]"
     ]
    },
    {
     "name": "stdout",
     "output_type": "stream",
     "text": [
      "{'eval_loss': 0.629501223564148, 'eval_accuracy': 0.8821428571428571, 'eval_runtime': 3.4266, 'eval_samples_per_second': 898.862, 'eval_steps_per_second': 56.325, 'epoch': 18.0}\n"
     ]
    },
    {
     "name": "stderr",
     "output_type": "stream",
     "text": [
      " 95%|█████████▍| 11893/12520 [21:58<01:03,  9.83it/s]"
     ]
    },
    {
     "name": "stdout",
     "output_type": "stream",
     "text": [
      "\n",
      "✅ Finished Epoch 19/20\n"
     ]
    },
    {
     "name": "stderr",
     "output_type": "stream",
     "text": [
      "                                                     \n",
      " 95%|█████████▌| 11896/12520 [22:02<06:24,  1.62it/s]"
     ]
    },
    {
     "name": "stdout",
     "output_type": "stream",
     "text": [
      "{'eval_loss': 0.6290965676307678, 'eval_accuracy': 0.8837662337662338, 'eval_runtime': 3.4731, 'eval_samples_per_second': 886.812, 'eval_steps_per_second': 55.57, 'epoch': 19.0}\n"
     ]
    },
    {
     "name": "stderr",
     "output_type": "stream",
     "text": [
      " 96%|█████████▌| 12002/12520 [22:13<00:53,  9.67it/s]"
     ]
    },
    {
     "name": "stdout",
     "output_type": "stream",
     "text": [
      "{'loss': 0.0549, 'learning_rate': 8.306709265175719e-07, 'epoch': 19.17}\n"
     ]
    },
    {
     "name": "stderr",
     "output_type": "stream",
     "text": [
      "100%|█████████▉| 12519/12520 [23:07<00:00,  9.14it/s]"
     ]
    },
    {
     "name": "stdout",
     "output_type": "stream",
     "text": [
      "\n",
      "✅ Finished Epoch 20/20\n"
     ]
    },
    {
     "name": "stderr",
     "output_type": "stream",
     "text": [
      "                                                     \n",
      "100%|██████████| 12520/12520 [23:11<00:00,  9.00it/s]\n"
     ]
    },
    {
     "name": "stdout",
     "output_type": "stream",
     "text": [
      "{'eval_loss': 0.6281505823135376, 'eval_accuracy': 0.8808441558441559, 'eval_runtime': 3.3581, 'eval_samples_per_second': 917.172, 'eval_steps_per_second': 57.472, 'epoch': 20.0}\n",
      "{'train_runtime': 1391.3609, 'train_samples_per_second': 143.787, 'train_steps_per_second': 8.998, 'train_loss': 0.3766544282626801, 'epoch': 20.0}\n"
     ]
    },
    {
     "name": "stderr",
     "output_type": "stream",
     "text": [
      "100%|██████████| 193/193 [00:03<00:00, 59.01it/s]"
     ]
    },
    {
     "name": "stdout",
     "output_type": "stream",
     "text": [
      "\n",
      "=== Final Evaluation ===\n",
      "{'eval_loss': 0.6281505823135376, 'eval_accuracy': 0.8808441558441559, 'eval_runtime': 3.2869, 'eval_samples_per_second': 937.043, 'eval_steps_per_second': 58.717, 'epoch': 20.0}\n"
     ]
    },
    {
     "name": "stderr",
     "output_type": "stream",
     "text": [
      "\n"
     ]
    }
   ],
   "source": [
    "# STEP 7: Set Training Arguments with Progress Bar\n",
    "training_args = TrainingArguments(\n",
    "    output_dir=\"./bert_run_2\",\n",
    "    evaluation_strategy=\"epoch\",\n",
    "    save_strategy=\"no\",\n",
    "    num_train_epochs=20,  # Increase epochs for multi-epoch display\n",
    "    per_device_train_batch_size=16,\n",
    "    per_device_eval_batch_size=16,\n",
    "    learning_rate=2e-5,\n",
    "    weight_decay=0.01,\n",
    "    logging_steps=1000,         # Show log only once per epoch (large number)\n",
    "    logging_dir=\"./logs\",\n",
    "    disable_tqdm=False          # Enable progress bar\n",
    ")\n",
    "\n",
    "# Custom Callback to Print Epoch Progress\n",
    "class EpochProgressPrinter(TrainerCallback):\n",
    "    def on_epoch_end(self, args, state, control, **kwargs):\n",
    "        print(f\"\\n✅ Finished Epoch {int(state.epoch)}/{int(args.num_train_epochs)}\")\n",
    "\n",
    "# STEP 8: Initialize Trainer\n",
    "trainer = Trainer(\n",
    "    model=model,\n",
    "    args=training_args,\n",
    "    train_dataset=dataset[\"train\"],\n",
    "    eval_dataset=dataset[\"test\"],\n",
    "    tokenizer=tokenizer,\n",
    "    data_collator=data_collator,\n",
    "    compute_metrics=compute_metrics,\n",
    "    callbacks=[EpochProgressPrinter()]  # Add custom callback\n",
    ")\n",
    "\n",
    "# STEP 9: Train the Model\n",
    "print(\"\\nTraining model...\")\n",
    "trainer.train()\n",
    "\n",
    "# STEP 10: Evaluate on Test Set\n",
    "metrics = trainer.evaluate()\n",
    "print(\"\\n=== Final Evaluation ===\")\n",
    "print(metrics)\n"
   ]
  },
  {
   "cell_type": "markdown",
   "id": "cc075321",
   "metadata": {},
   "source": [
    "#  Chatbot System with Intent Inference & Dialogue Management\n"
   ]
  },
  {
   "cell_type": "code",
   "execution_count": 6,
   "id": "e473087c",
   "metadata": {},
   "outputs": [],
   "source": [
    "# STEP 11: Define BankingChatbot Class with Enhanced NER and Dialogue State\n",
    "nlp = spacy.load(\"en_core_web_sm\")\n",
    "\n",
    "mock_users = {\n",
    "    \"user1\": {\n",
    "        \"name\": \"Sarah\",\n",
    "        \"password\": \"pass123\",\n",
    "        \"balance\": \"$5,320.75\",\n",
    "        \"account_type\": \"savings\",\n",
    "        \"iban\": \"DE89370400440532013000\"\n",
    "    },\n",
    "    \"user2\": {\n",
    "        \"name\": \"Ali\",\n",
    "        \"password\": \"mysecurepw\",\n",
    "        \"balance\": \"$2,105.60\",\n",
    "        \"account_type\": \"checking\",\n",
    "        \"iban\": \"GB29NWBK60161331926819\"\n",
    "    }\n",
    "}\n",
    "\n",
    "INTENT_MAP = {\n",
    "    \"balance_not_updated_after_cheque_or_cash_deposit\": \"balance\",\n",
    "    \"pending_transfer\": \"balance\",\n",
    "    \"atm_support\": \"atm_location\",\n",
    "    \"transfer_not_received\": \"transfer_money\",\n",
    "    \"transfer\": \"transfer_money\",\n",
    "    \"confirm_transfer\": \"confirm_transfer\"\n",
    "}\n",
    "\n",
    "BRANCH_INFO = {\n",
    "    \"cairo\": {\n",
    "        \"id\": \"BR001\",\n",
    "        \"address\": \"Main St 101, Downtown, Cairo\",\n",
    "        \"hours\": \"Sun-Thu, 9AM-5PM\",\n",
    "        \"is_main\": True\n",
    "    },\n",
    "    \"alex\": {\n",
    "        \"id\": \"BR002\",\n",
    "        \"address\": \"21 Sea Road, Alexandria\",\n",
    "        \"hours\": \"Sun-Thu, 9AM-4PM\",\n",
    "        \"is_main\": False\n",
    "    },\n",
    "    \"alamin\": {\n",
    "        \"id\": \"BR003\",\n",
    "        \"address\": \"Palm District, New Alamin\",\n",
    "        \"hours\": \"Sun-Thu, 10AM-6PM\",\n",
    "        \"is_main\": False\n",
    "    },\n",
    "    \"upper egypt\": {\n",
    "        \"id\": \"BR004\",\n",
    "        \"address\": \"Riverbank Rd, Aswan\",\n",
    "        \"hours\": \"Sun-Thu, 9AM-3PM\",\n",
    "        \"is_main\": False\n",
    "    },\n",
    "    \"sharkia\": {\n",
    "        \"id\": \"BR005\",\n",
    "        \"address\": \"Tanta Rd 9, Zagazig\",\n",
    "        \"hours\": \"Sun-Thu, 9AM-4PM\",\n",
    "        \"is_main\": False\n",
    "    }\n",
    "}\n",
    "\n",
    "BRANCH_SYNONYMS = {\n",
    "    \"main\": \"cairo\",\n",
    "    \"head\": \"cairo\",\n",
    "    \"downtown\": \"cairo\",\n",
    "    \"alexandria\": \"alex\",\n",
    "    \"al alamein\": \"alamin\",\n",
    "    \"alamein\": \"alamin\",\n",
    "    \"upper\": \"upper egypt\",\n",
    "    \"aswan\": \"upper egypt\",\n",
    "    \"zagazig\": \"sharkia\",\n",
    "    \"sharqia\": \"sharkia\"\n",
    "}\n",
    "\n",
    "class BankingChatbot:\n",
    "    def __init__(self, model, tokenizer, label_names, user_data):\n",
    "        self.model = model\n",
    "        self.tokenizer = tokenizer\n",
    "        self.label_names = label_names\n",
    "        self.nlp = nlp\n",
    "        self.user_data = user_data\n",
    "        self.context = {}\n",
    "        self.session_entities = []\n",
    "        self.matcher = Matcher(self.nlp.vocab)\n",
    "        self.add_patterns()\n",
    "        self.templates = {\n",
    "            \"balance\": \"Hello {name}, your {account_type} balance is {balance}.\",\n",
    "            \"transfer_money\": \"Okay, you're transferring {amount} to {recipient}. Please confirm to proceed.\",\n",
    "            \"atm_location\": \"Nearest ATM is 2 blocks away at 5th Avenue.\",\n",
    "            \"confirm_transfer\": \"Transfer confirmed. Transaction complete.\"\n",
    "        }\n",
    "\n",
    "    def add_patterns(self):\n",
    "        account_pattern = [{\"LOWER\": {\"IN\": [\"savings\", \"checking\", \"account\"]}}]\n",
    "        iban_pattern = [{\"TEXT\": {\"REGEX\": \"^([A-Z]{2}[0-9]{2}[A-Z0-9]{11,30})$\"}}]\n",
    "        money_pattern = [{\"TEXT\": {\"REGEX\": r\"^\\$?[0-9]+\"}}]\n",
    "        routing_number_pattern = [{\"TEXT\": {\"REGEX\": \"^[0-9]{9}$\"}}]\n",
    "        txn_id_pattern = [{\"TEXT\": {\"REGEX\": \"^[A-Z0-9]{10,}$\"}}]\n",
    "        balance_pattern = [{\"LOWER\": \"balance\"}]\n",
    "        self.matcher.add(\"ACCOUNT_TYPE\", [account_pattern])\n",
    "        self.matcher.add(\"IBAN\", [iban_pattern])\n",
    "        self.matcher.add(\"MONEY\", [money_pattern])\n",
    "        self.matcher.add(\"ROUTING\", [routing_number_pattern])\n",
    "        self.matcher.add(\"TXN_ID\", [txn_id_pattern])\n",
    "        self.matcher.add(\"BALANCE\", [balance_pattern])\n",
    "\n",
    "    def extract_entities(self, text):\n",
    "        doc = self.nlp(text)\n",
    "        matches = self.matcher(doc)\n",
    "        entities = [(doc[start:end].text, self.nlp.vocab.strings[match_id]) for match_id, start, end in matches]\n",
    "        entities += [(ent.text, ent.label_) for ent in doc.ents if ent.label_ in [\"PERSON\", \"MONEY\"]]\n",
    "        for token in doc:\n",
    "            token_text = token.text.lower()\n",
    "            if token_text in BRANCH_INFO:\n",
    "                entities.append((token_text, \"BRANCH\"))\n",
    "            elif token_text in BRANCH_SYNONYMS:\n",
    "                entities.append((BRANCH_SYNONYMS[token_text], \"BRANCH\"))\n",
    "        self.session_entities.extend(entities)\n",
    "        return entities\n",
    "\n",
    "    def get_entity(self, entities, label, default=\"unknown\"):\n",
    "        for ent, ent_label in entities:\n",
    "            if ent_label == label:\n",
    "                return ent\n",
    "        return default\n",
    "\n",
    "    def predict_intent(self, text):\n",
    "        self.model.eval()\n",
    "        inputs = self.tokenizer(text, return_tensors=\"pt\", truncation=True, padding=True).to(device)\n",
    "        with torch.no_grad():\n",
    "            outputs = self.model(**inputs)\n",
    "            probs = torch.nn.functional.softmax(outputs.logits, dim=-1)\n",
    "            pred_class = torch.argmax(probs, dim=1).item()\n",
    "            fine_intent = self.label_names[pred_class]\n",
    "            general_intent = INTENT_MAP.get(fine_intent, fine_intent)\n",
    "            confidence = probs[0][pred_class].item()\n",
    "        if confidence < 0.3:\n",
    "            text_lower = text.lower()\n",
    "            if \"balance\" in text_lower:\n",
    "                general_intent = \"balance\"\n",
    "            elif \"atm\" in text_lower:\n",
    "                general_intent = \"atm_location\"\n",
    "            elif \"transfer\" in text_lower:\n",
    "                general_intent = \"transfer_money\"\n",
    "            elif any(branch in text_lower for branch in BRANCH_INFO):\n",
    "                general_intent = \"branch_info\"\n",
    "            elif \"branch\" in text_lower or \"office\" in text_lower or \"location\" in text_lower:\n",
    "                general_intent = \"branch_info\"\n",
    "        return general_intent, confidence\n",
    "\n",
    "    def generate_response(self, intent, entities, user_id=\"user1\"):\n",
    "        user = self.user_data.get(user_id, {})\n",
    "        if intent == \"balance\":\n",
    "            if not any(e[1] == \"ACCOUNT_TYPE\" for e in entities):\n",
    "                entities.append((user.get(\"account_type\", \"account\"), \"ACCOUNT_TYPE\"))\n",
    "            return self.templates[intent].format(\n",
    "                name=user.get(\"name\", \"User\"),\n",
    "                account_type=user.get(\"account_type\", \"account\"),\n",
    "                balance=user.get(\"balance\", \"$0\")\n",
    "            )\n",
    "        elif intent == \"transfer_money\":\n",
    "            amount = self.get_entity(entities, \"MONEY\", \"$500\")\n",
    "            recipient = self.get_entity(entities, \"PERSON\", \"recipient\")\n",
    "            self.context[\"awaiting_recipient\"] = True\n",
    "            return self.templates[intent].format(amount=amount, recipient=recipient)\n",
    "        elif intent == \"confirm_transfer\" and self.context.get(\"awaiting_recipient\"):\n",
    "            self.context[\"awaiting_recipient\"] = False\n",
    "            return self.templates[intent]\n",
    "        elif intent == \"branch_info\":\n",
    "            branch_name = self.get_entity(entities, \"BRANCH\", \"cairo\").lower()\n",
    "            info = BRANCH_INFO.get(branch_name)\n",
    "            if info:\n",
    "                return (\n",
    "                    f\"Branch ID: {info['id']}\\n\"\n",
    "                    f\"Location: {branch_name.title()} ({'Main Branch' if info['is_main'] else 'Branch'})\\n\"\n",
    "                    f\"Address: {info['address']}\\n\"\n",
    "                    f\"Working Hours: {info['hours']}\"\n",
    "                )\n",
    "            return \"Sorry, I couldn’t find that branch information.\"\n",
    "        return self.templates.get(intent, f\"I understood your intent as '{intent}', but I need more details to help.\")\n",
    "\n",
    "    def process_query(self, user_input, user_id=\"user1\"):\n",
    "        intent, confidence = self.predict_intent(user_input)\n",
    "        entities = self.extract_entities(user_input)\n",
    "        response = self.generate_response(intent, entities, user_id=user_id)\n",
    "        self.context[\"last_intent\"] = intent\n",
    "        return {\n",
    "            \"input\": user_input,\n",
    "            \"intent\": intent,\n",
    "            \"confidence\": confidence,\n",
    "            \"entities\": entities,\n",
    "            \"response\": response\n",
    "        }"
   ]
  },
  {
   "cell_type": "markdown",
   "id": "8812493c",
   "metadata": {},
   "source": [
    "#  Interactive Chat Interface"
   ]
  },
  {
   "cell_type": "code",
   "execution_count": 7,
   "id": "02e504ce",
   "metadata": {},
   "outputs": [
    {
     "name": "stdout",
     "output_type": "stream",
     "text": [
      "\n",
      "=== Welcome to Secure Banking Chatbot ===\n",
      "\n",
      "Hello, Sarah! You can start chatting. Type 'exit' to quit.\n",
      "Bot: Nearest ATM is 2 blocks away at 5th Avenue.\n",
      "→ Intent: atm_location (0.80)\n",
      "→ Entities: [('cairo', 'BRANCH')]\n",
      "Bot: Goodbye!\n",
      "\n",
      "Session Entities Collected: [('cairo', 'BRANCH')]\n"
     ]
    }
   ],
   "source": [
    "# STEP 12: Start Interactive Dialogue with the Bot and Login\n",
    "bot = BankingChatbot(model, tokenizer, label_names, user_data=mock_users)\n",
    "\n",
    "print(\"\\n=== Welcome to Secure Banking Chatbot ===\")\n",
    "username = input(\"Username: \")\n",
    "password = input(\"Password: \")\n",
    "\n",
    "if username in mock_users and mock_users[username][\"password\"] == password:\n",
    "    print(f\"\\nHello, {mock_users[username]['name']}! You can start chatting. Type 'exit' to quit.\")\n",
    "    while True:\n",
    "        user_input = input(\"You: \")\n",
    "        if user_input.lower() == \"exit\":\n",
    "            print(\"Bot: Goodbye!\")\n",
    "            break\n",
    "        result = bot.process_query(user_input, user_id=username)\n",
    "        print(f\"Bot: {result['response']}\")\n",
    "        print(f\"→ Intent: {result['intent']} ({result['confidence']:.2f})\")\n",
    "        print(f\"→ Entities: {result['entities']}\")\n",
    "else:\n",
    "    print(\"Authentication failed. Invalid username or password.\")\n",
    "\n",
    "print(f\"\\nSession Entities Collected: {bot.session_entities}\")\n",
    "\n"
   ]
  },
  {
   "cell_type": "markdown",
   "id": "01e61e85",
   "metadata": {},
   "source": [
    "#   Model Evaluation"
   ]
  },
  {
   "cell_type": "code",
   "execution_count": 8,
   "id": "69a54209",
   "metadata": {},
   "outputs": [
    {
     "name": "stderr",
     "output_type": "stream",
     "text": [
      "100%|██████████| 193/193 [00:03<00:00, 57.45it/s]\n",
      "100%|██████████| 193/193 [00:03<00:00, 59.96it/s]"
     ]
    },
    {
     "name": "stdout",
     "output_type": "stream",
     "text": [
      "\n",
      "=== Classification Report ===\n",
      "                                                  precision    recall  f1-score   support\n",
      "\n",
      "                                activate_my_card       1.00      0.97      0.99        40\n",
      "                                       age_limit       1.00      0.97      0.99        40\n",
      "                         apple_pay_or_google_pay       1.00      1.00      1.00        40\n",
      "                                     atm_support       0.95      0.93      0.94        40\n",
      "                                automatic_top_up       1.00      0.95      0.97        40\n",
      "         balance_not_updated_after_bank_transfer       0.71      0.72      0.72        40\n",
      "balance_not_updated_after_cheque_or_cash_deposit       0.90      0.90      0.90        40\n",
      "                         beneficiary_not_allowed       0.76      0.95      0.84        40\n",
      "                                 cancel_transfer       1.00      0.95      0.97        40\n",
      "                            card_about_to_expire       0.97      0.95      0.96        40\n",
      "                                 card_acceptance       0.85      0.70      0.77        40\n",
      "                                    card_arrival       0.92      0.88      0.90        40\n",
      "                          card_delivery_estimate       0.80      0.80      0.80        40\n",
      "                                    card_linking       0.91      0.97      0.94        40\n",
      "                                card_not_working       0.80      0.90      0.85        40\n",
      "                        card_payment_fee_charged       0.85      0.82      0.84        40\n",
      "                     card_payment_not_recognised       0.83      0.75      0.79        40\n",
      "                card_payment_wrong_exchange_rate       0.97      0.93      0.95        40\n",
      "                                  card_swallowed       0.92      0.88      0.90        40\n",
      "                          cash_withdrawal_charge       0.95      0.95      0.95        40\n",
      "                  cash_withdrawal_not_recognised       0.82      0.90      0.86        40\n",
      "                                      change_pin       0.91      1.00      0.95        40\n",
      "                                compromised_card       0.83      0.75      0.79        40\n",
      "                         contactless_not_working       1.00      0.93      0.96        40\n",
      "                                 country_support       0.87      0.97      0.92        40\n",
      "                           declined_card_payment       0.80      0.90      0.85        40\n",
      "                        declined_cash_withdrawal       0.80      0.82      0.81        40\n",
      "                               declined_transfer       0.97      0.72      0.83        40\n",
      "             direct_debit_payment_not_recognised       0.95      0.88      0.91        40\n",
      "                          disposable_card_limits       0.91      0.78      0.84        40\n",
      "                           edit_personal_details       1.00      1.00      1.00        40\n",
      "                                 exchange_charge       0.97      0.93      0.95        40\n",
      "                                   exchange_rate       0.89      1.00      0.94        40\n",
      "                                exchange_via_app       0.88      0.90      0.89        40\n",
      "                       extra_charge_on_statement       0.93      0.93      0.93        40\n",
      "                                 failed_transfer       0.70      0.80      0.74        40\n",
      "                           fiat_currency_support       0.88      0.88      0.88        40\n",
      "                     get_disposable_virtual_card       0.80      0.82      0.81        40\n",
      "                               get_physical_card       0.95      0.95      0.95        40\n",
      "                              getting_spare_card       0.82      0.80      0.81        40\n",
      "                            getting_virtual_card       0.88      0.95      0.92        40\n",
      "                             lost_or_stolen_card       0.80      0.88      0.83        40\n",
      "                            lost_or_stolen_phone       0.97      0.97      0.97        40\n",
      "                             order_physical_card       0.74      0.65      0.69        40\n",
      "                              passcode_forgotten       0.98      1.00      0.99        40\n",
      "                            pending_card_payment       0.89      0.85      0.87        40\n",
      "                         pending_cash_withdrawal       0.90      0.95      0.93        40\n",
      "                                  pending_top_up       0.82      0.90      0.86        40\n",
      "                                pending_transfer       0.89      0.62      0.74        40\n",
      "                                     pin_blocked       0.95      0.88      0.91        40\n",
      "                                 receiving_money       0.93      0.93      0.93        40\n",
      "                           Refund_not_showing_up       0.92      0.90      0.91        40\n",
      "                                  request_refund       0.97      0.93      0.95        40\n",
      "                          reverted_card_payment?       0.82      0.93      0.87        40\n",
      "                  supported_cards_and_currencies       0.90      0.93      0.91        40\n",
      "                               terminate_account       0.95      1.00      0.98        40\n",
      "                  top_up_by_bank_transfer_charge       0.89      0.80      0.84        40\n",
      "                           top_up_by_card_charge       0.86      0.90      0.88        40\n",
      "                        top_up_by_cash_or_cheque       0.89      0.80      0.84        40\n",
      "                                   top_up_failed       0.83      0.75      0.79        40\n",
      "                                   top_up_limits       0.84      0.93      0.88        40\n",
      "                                 top_up_reverted       0.82      0.78      0.79        40\n",
      "                              topping_up_by_card       0.70      0.75      0.72        40\n",
      "                       transaction_charged_twice       0.85      1.00      0.92        40\n",
      "                            transfer_fee_charged       0.78      0.95      0.85        40\n",
      "                           transfer_into_account       0.89      0.78      0.83        40\n",
      "              transfer_not_received_by_recipient       0.79      0.85      0.82        40\n",
      "                                 transfer_timing       0.80      0.88      0.83        40\n",
      "                       unable_to_verify_identity       0.89      0.82      0.86        40\n",
      "                              verify_my_identity       0.71      0.75      0.73        40\n",
      "                          verify_source_of_funds       0.98      1.00      0.99        40\n",
      "                                   verify_top_up       0.98      1.00      0.99        40\n",
      "                        virtual_card_not_working       0.92      0.85      0.88        40\n",
      "                              visa_or_mastercard       1.00      0.93      0.96        40\n",
      "                             why_verify_identity       0.72      0.72      0.72        40\n",
      "                   wrong_amount_of_cash_received       0.90      0.90      0.90        40\n",
      "         wrong_exchange_rate_for_cash_withdrawal       0.95      0.93      0.94        40\n",
      "\n",
      "                                        accuracy                           0.88      3080\n",
      "                                       macro avg       0.88      0.88      0.88      3080\n",
      "                                    weighted avg       0.88      0.88      0.88      3080\n",
      "\n"
     ]
    },
    {
     "name": "stderr",
     "output_type": "stream",
     "text": [
      "\n"
     ]
    }
   ],
   "source": [
    "# STEP 13: Classification Report\n",
    "y_pred = trainer.predict(dataset[\"test\"]).predictions.argmax(axis=1)\n",
    "y_true = trainer.predict(dataset[\"test\"]).label_ids\n",
    "print(\"\\n=== Classification Report ===\")\n",
    "print(classification_report(y_true, y_pred, target_names=label_names))"
   ]
  }
 ],
 "metadata": {
  "kernelspec": {
   "display_name": "GPU",
   "language": "python",
   "name": "python3"
  },
  "language_info": {
   "codemirror_mode": {
    "name": "ipython",
    "version": 3
   },
   "file_extension": ".py",
   "mimetype": "text/x-python",
   "name": "python",
   "nbconvert_exporter": "python",
   "pygments_lexer": "ipython3",
   "version": "3.11.11"
  }
 },
 "nbformat": 4,
 "nbformat_minor": 5
}
